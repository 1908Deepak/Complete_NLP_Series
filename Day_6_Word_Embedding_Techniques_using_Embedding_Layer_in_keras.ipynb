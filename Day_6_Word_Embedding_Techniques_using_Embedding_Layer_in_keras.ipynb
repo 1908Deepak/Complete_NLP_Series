{
  "nbformat": 4,
  "nbformat_minor": 0,
  "metadata": {
    "colab": {
      "provenance": [],
      "gpuType": "T4",
      "authorship_tag": "ABX9TyP+g5/WbBIRtwhIF/3KJV3V",
      "include_colab_link": true
    },
    "kernelspec": {
      "name": "python3",
      "display_name": "Python 3"
    },
    "language_info": {
      "name": "python"
    },
    "accelerator": "GPU"
  },
  "cells": [
    {
      "cell_type": "markdown",
      "metadata": {
        "id": "view-in-github",
        "colab_type": "text"
      },
      "source": [
        "<a href=\"https://colab.research.google.com/github/1908Deepak/Complete_NLP_Series/blob/master/Day_6_Word_Embedding_Techniques_using_Embedding_Layer_in_keras.ipynb\" target=\"_parent\"><img src=\"https://colab.research.google.com/assets/colab-badge.svg\" alt=\"Open In Colab\"/></a>"
      ]
    },
    {
      "cell_type": "markdown",
      "source": [
        "**Word Embedding Techniques using Embedding Layer in keras**"
      ],
      "metadata": {
        "id": "dRuoUIFFT9fu"
      }
    },
    {
      "cell_type": "code",
      "source": [
        "import tensorflow as tf\n",
        "print(tf.__version__)"
      ],
      "metadata": {
        "colab": {
          "base_uri": "https://localhost:8080/"
        },
        "id": "wzhzqk1zUb-8",
        "outputId": "81ce02cb-21d3-4d60-d084-ae54d9ac47ae"
      },
      "execution_count": 30,
      "outputs": [
        {
          "output_type": "stream",
          "name": "stdout",
          "text": [
            "2.18.0\n"
          ]
        }
      ]
    },
    {
      "cell_type": "code",
      "source": [
        "from tensorflow.keras.preprocessing.text import one_hot"
      ],
      "metadata": {
        "id": "pByowqdsU0V4"
      },
      "execution_count": 31,
      "outputs": []
    },
    {
      "cell_type": "code",
      "source": [
        "### sentences\n",
        "sent=[  'the glass of milk',\n",
        "     'the glass of juice',\n",
        "     'the cup of tea',\n",
        "    'I am a good boy',\n",
        "     'I am a good developer',\n",
        "     'understand the meaning of words',\n",
        "     'your videos are good']"
      ],
      "metadata": {
        "id": "hBHZBMHUVFlr"
      },
      "execution_count": 32,
      "outputs": []
    },
    {
      "cell_type": "code",
      "source": [
        "sent"
      ],
      "metadata": {
        "colab": {
          "base_uri": "https://localhost:8080/"
        },
        "id": "t9swZoMjVKKa",
        "outputId": "41724e74-71c3-4326-a6db-e82e0b48c4d5"
      },
      "execution_count": 33,
      "outputs": [
        {
          "output_type": "execute_result",
          "data": {
            "text/plain": [
              "['the glass of milk',\n",
              " 'the glass of juice',\n",
              " 'the cup of tea',\n",
              " 'I am a good boy',\n",
              " 'I am a good developer',\n",
              " 'understand the meaning of words',\n",
              " 'your videos are good']"
            ]
          },
          "metadata": {},
          "execution_count": 33
        }
      ]
    },
    {
      "cell_type": "code",
      "source": [
        "#vocalbulary size\n",
        "vocab_size = 500"
      ],
      "metadata": {
        "id": "n192TDTfVM_F"
      },
      "execution_count": 70,
      "outputs": []
    },
    {
      "cell_type": "code",
      "source": [],
      "metadata": {
        "id": "rWuWBg8sVb0G"
      },
      "execution_count": 34,
      "outputs": []
    },
    {
      "cell_type": "markdown",
      "source": [
        "**One Hot Representation**"
      ],
      "metadata": {
        "id": "gL56d1MTVdCc"
      }
    },
    {
      "cell_type": "code",
      "source": [
        "onehot =[one_hot(words,vocab_size)for words in sent]\n",
        "print(onehot)"
      ],
      "metadata": {
        "colab": {
          "base_uri": "https://localhost:8080/"
        },
        "id": "bqtBSdUiV0A8",
        "outputId": "8036dd6d-a230-4314-c671-33950278caa0"
      },
      "execution_count": 71,
      "outputs": [
        {
          "output_type": "stream",
          "name": "stdout",
          "text": [
            "[[23, 474, 158, 367], [23, 474, 158, 226], [23, 355, 158, 155], [144, 184, 302, 81, 452], [144, 184, 302, 81, 4], [324, 23, 265, 158, 427], [442, 346, 225, 81]]\n"
          ]
        }
      ]
    },
    {
      "cell_type": "markdown",
      "source": [
        "**Word Embedding Representation**"
      ],
      "metadata": {
        "id": "X2qNXGMOWGkN"
      }
    },
    {
      "cell_type": "code",
      "source": [
        "from tensorflow.keras.layers import Embedding\n",
        "from tensorflow.keras.preprocessing.sequence import pad_sequences\n",
        "from tensorflow.keras.models import Sequential"
      ],
      "metadata": {
        "id": "J7WLW2ywV0_p"
      },
      "execution_count": 72,
      "outputs": []
    },
    {
      "cell_type": "code",
      "source": [
        "import numpy as np"
      ],
      "metadata": {
        "id": "5urMS968V08P"
      },
      "execution_count": 37,
      "outputs": []
    },
    {
      "cell_type": "code",
      "source": [
        "#pre padding\n",
        "sent_length =8\n",
        "embedded_docs = pad_sequences(onehot,padding='pre',maxlen =sent_length)\n",
        "print(embedded_docs)"
      ],
      "metadata": {
        "colab": {
          "base_uri": "https://localhost:8080/"
        },
        "id": "cJhcrfQoV05W",
        "outputId": "3a1eacf4-8c78-4655-af89-1ab9c2073983"
      },
      "execution_count": 92,
      "outputs": [
        {
          "output_type": "stream",
          "name": "stdout",
          "text": [
            "[[  0   0   0   0  23 474 158 367]\n",
            " [  0   0   0   0  23 474 158 226]\n",
            " [  0   0   0   0  23 355 158 155]\n",
            " [  0   0   0 144 184 302  81 452]\n",
            " [  0   0   0 144 184 302  81   4]\n",
            " [  0   0   0 324  23 265 158 427]\n",
            " [  0   0   0   0 442 346 225  81]]\n"
          ]
        }
      ]
    },
    {
      "cell_type": "code",
      "source": [
        "# feature size\n",
        "dim =8"
      ],
      "metadata": {
        "id": "AgkfDHqrYLGr"
      },
      "execution_count": 93,
      "outputs": []
    },
    {
      "cell_type": "code",
      "source": [
        "model=Sequential()\n",
        "model.add(Embedding(vocab_size,8))\n",
        "model.compile('adam','mse')"
      ],
      "metadata": {
        "id": "qYl_mbIhY7ft"
      },
      "execution_count": 94,
      "outputs": []
    },
    {
      "cell_type": "code",
      "source": [
        "model.summary()"
      ],
      "metadata": {
        "colab": {
          "base_uri": "https://localhost:8080/",
          "height": 161
        },
        "id": "mcklWDtfZT9g",
        "outputId": "7d2239c6-da85-4c2e-f5ce-5d0cf64cea58"
      },
      "execution_count": 95,
      "outputs": [
        {
          "output_type": "display_data",
          "data": {
            "text/plain": [
              "\u001b[1mModel: \"sequential_12\"\u001b[0m\n"
            ],
            "text/html": [
              "<pre style=\"white-space:pre;overflow-x:auto;line-height:normal;font-family:Menlo,'DejaVu Sans Mono',consolas,'Courier New',monospace\"><span style=\"font-weight: bold\">Model: \"sequential_12\"</span>\n",
              "</pre>\n"
            ]
          },
          "metadata": {}
        },
        {
          "output_type": "display_data",
          "data": {
            "text/plain": [
              "┏━━━━━━━━━━━━━━━━━━━━━━━━━━━━━━━━━━━━━━┳━━━━━━━━━━━━━━━━━━━━━━━━━━━━━┳━━━━━━━━━━━━━━━━━┓\n",
              "┃\u001b[1m \u001b[0m\u001b[1mLayer (type)                        \u001b[0m\u001b[1m \u001b[0m┃\u001b[1m \u001b[0m\u001b[1mOutput Shape               \u001b[0m\u001b[1m \u001b[0m┃\u001b[1m \u001b[0m\u001b[1m        Param #\u001b[0m\u001b[1m \u001b[0m┃\n",
              "┡━━━━━━━━━━━━━━━━━━━━━━━━━━━━━━━━━━━━━━╇━━━━━━━━━━━━━━━━━━━━━━━━━━━━━╇━━━━━━━━━━━━━━━━━┩\n",
              "│ embedding_11 (\u001b[38;5;33mEmbedding\u001b[0m)             │ ?                           │     \u001b[38;5;34m0\u001b[0m (unbuilt) │\n",
              "└──────────────────────────────────────┴─────────────────────────────┴─────────────────┘\n"
            ],
            "text/html": [
              "<pre style=\"white-space:pre;overflow-x:auto;line-height:normal;font-family:Menlo,'DejaVu Sans Mono',consolas,'Courier New',monospace\">┏━━━━━━━━━━━━━━━━━━━━━━━━━━━━━━━━━━━━━━┳━━━━━━━━━━━━━━━━━━━━━━━━━━━━━┳━━━━━━━━━━━━━━━━━┓\n",
              "┃<span style=\"font-weight: bold\"> Layer (type)                         </span>┃<span style=\"font-weight: bold\"> Output Shape                </span>┃<span style=\"font-weight: bold\">         Param # </span>┃\n",
              "┡━━━━━━━━━━━━━━━━━━━━━━━━━━━━━━━━━━━━━━╇━━━━━━━━━━━━━━━━━━━━━━━━━━━━━╇━━━━━━━━━━━━━━━━━┩\n",
              "│ embedding_11 (<span style=\"color: #0087ff; text-decoration-color: #0087ff\">Embedding</span>)             │ ?                           │     <span style=\"color: #00af00; text-decoration-color: #00af00\">0</span> (unbuilt) │\n",
              "└──────────────────────────────────────┴─────────────────────────────┴─────────────────┘\n",
              "</pre>\n"
            ]
          },
          "metadata": {}
        },
        {
          "output_type": "display_data",
          "data": {
            "text/plain": [
              "\u001b[1m Total params: \u001b[0m\u001b[38;5;34m0\u001b[0m (0.00 B)\n"
            ],
            "text/html": [
              "<pre style=\"white-space:pre;overflow-x:auto;line-height:normal;font-family:Menlo,'DejaVu Sans Mono',consolas,'Courier New',monospace\"><span style=\"font-weight: bold\"> Total params: </span><span style=\"color: #00af00; text-decoration-color: #00af00\">0</span> (0.00 B)\n",
              "</pre>\n"
            ]
          },
          "metadata": {}
        },
        {
          "output_type": "display_data",
          "data": {
            "text/plain": [
              "\u001b[1m Trainable params: \u001b[0m\u001b[38;5;34m0\u001b[0m (0.00 B)\n"
            ],
            "text/html": [
              "<pre style=\"white-space:pre;overflow-x:auto;line-height:normal;font-family:Menlo,'DejaVu Sans Mono',consolas,'Courier New',monospace\"><span style=\"font-weight: bold\"> Trainable params: </span><span style=\"color: #00af00; text-decoration-color: #00af00\">0</span> (0.00 B)\n",
              "</pre>\n"
            ]
          },
          "metadata": {}
        },
        {
          "output_type": "display_data",
          "data": {
            "text/plain": [
              "\u001b[1m Non-trainable params: \u001b[0m\u001b[38;5;34m0\u001b[0m (0.00 B)\n"
            ],
            "text/html": [
              "<pre style=\"white-space:pre;overflow-x:auto;line-height:normal;font-family:Menlo,'DejaVu Sans Mono',consolas,'Courier New',monospace\"><span style=\"font-weight: bold\"> Non-trainable params: </span><span style=\"color: #00af00; text-decoration-color: #00af00\">0</span> (0.00 B)\n",
              "</pre>\n"
            ]
          },
          "metadata": {}
        }
      ]
    },
    {
      "cell_type": "code",
      "source": [
        "# 'the glass of milk'\n",
        "embedded_docs[0]"
      ],
      "metadata": {
        "colab": {
          "base_uri": "https://localhost:8080/"
        },
        "id": "zcwYYaRrZVna",
        "outputId": "7c943feb-1181-4dfb-d93a-2a30291be543"
      },
      "execution_count": 96,
      "outputs": [
        {
          "output_type": "execute_result",
          "data": {
            "text/plain": [
              "array([  0,   0,   0,   0,  23, 474, 158, 367], dtype=int32)"
            ]
          },
          "metadata": {},
          "execution_count": 96
        }
      ]
    },
    {
      "cell_type": "code",
      "source": [
        "print(model.predict(embedded_docs))"
      ],
      "metadata": {
        "colab": {
          "base_uri": "https://localhost:8080/"
        },
        "id": "MLcUk4LUag8G",
        "outputId": "dfdb652d-26da-4d52-e194-8d4f945040c5"
      },
      "execution_count": 97,
      "outputs": [
        {
          "output_type": "stream",
          "name": "stderr",
          "text": [
            "WARNING:tensorflow:5 out of the last 5 calls to <function TensorFlowTrainer.make_predict_function.<locals>.one_step_on_data_distributed at 0x7f7d2c526660> triggered tf.function retracing. Tracing is expensive and the excessive number of tracings could be due to (1) creating @tf.function repeatedly in a loop, (2) passing tensors with different shapes, (3) passing Python objects instead of tensors. For (1), please define your @tf.function outside of the loop. For (2), @tf.function has reduce_retracing=True option that can avoid unnecessary retracing. For (3), please refer to https://www.tensorflow.org/guide/function#controlling_retracing and https://www.tensorflow.org/api_docs/python/tf/function for  more details.\n"
          ]
        },
        {
          "output_type": "stream",
          "name": "stdout",
          "text": [
            "\u001b[1m1/1\u001b[0m \u001b[32m━━━━━━━━━━━━━━━━━━━━\u001b[0m\u001b[37m\u001b[0m \u001b[1m0s\u001b[0m 159ms/step\n",
            "[[[-0.02829522 -0.01896539 -0.03463118  0.03174325 -0.04326433\n",
            "    0.03636492  0.02978989  0.02980789]\n",
            "  [-0.02829522 -0.01896539 -0.03463118  0.03174325 -0.04326433\n",
            "    0.03636492  0.02978989  0.02980789]\n",
            "  [-0.02829522 -0.01896539 -0.03463118  0.03174325 -0.04326433\n",
            "    0.03636492  0.02978989  0.02980789]\n",
            "  [-0.02829522 -0.01896539 -0.03463118  0.03174325 -0.04326433\n",
            "    0.03636492  0.02978989  0.02980789]\n",
            "  [ 0.00102108  0.02451294 -0.01431308 -0.01147349 -0.00227207\n",
            "   -0.04245691 -0.03855885  0.03908935]\n",
            "  [ 0.02835551  0.03133564 -0.03654945  0.01657145  0.04172132\n",
            "   -0.02300218  0.0260191   0.02727046]\n",
            "  [ 0.00304423  0.023376   -0.03204205 -0.02140065  0.02944313\n",
            "   -0.02695532 -0.04025048  0.04790166]\n",
            "  [-0.01238452  0.03538394  0.00139848 -0.0434539  -0.01690253\n",
            "    0.03606517  0.04105805 -0.03852029]]\n",
            "\n",
            " [[-0.02829522 -0.01896539 -0.03463118  0.03174325 -0.04326433\n",
            "    0.03636492  0.02978989  0.02980789]\n",
            "  [-0.02829522 -0.01896539 -0.03463118  0.03174325 -0.04326433\n",
            "    0.03636492  0.02978989  0.02980789]\n",
            "  [-0.02829522 -0.01896539 -0.03463118  0.03174325 -0.04326433\n",
            "    0.03636492  0.02978989  0.02980789]\n",
            "  [-0.02829522 -0.01896539 -0.03463118  0.03174325 -0.04326433\n",
            "    0.03636492  0.02978989  0.02980789]\n",
            "  [ 0.00102108  0.02451294 -0.01431308 -0.01147349 -0.00227207\n",
            "   -0.04245691 -0.03855885  0.03908935]\n",
            "  [ 0.02835551  0.03133564 -0.03654945  0.01657145  0.04172132\n",
            "   -0.02300218  0.0260191   0.02727046]\n",
            "  [ 0.00304423  0.023376   -0.03204205 -0.02140065  0.02944313\n",
            "   -0.02695532 -0.04025048  0.04790166]\n",
            "  [ 0.00137772  0.00964432 -0.04608253 -0.024801   -0.01853074\n",
            "    0.03393075 -0.04611144  0.04716479]]\n",
            "\n",
            " [[-0.02829522 -0.01896539 -0.03463118  0.03174325 -0.04326433\n",
            "    0.03636492  0.02978989  0.02980789]\n",
            "  [-0.02829522 -0.01896539 -0.03463118  0.03174325 -0.04326433\n",
            "    0.03636492  0.02978989  0.02980789]\n",
            "  [-0.02829522 -0.01896539 -0.03463118  0.03174325 -0.04326433\n",
            "    0.03636492  0.02978989  0.02980789]\n",
            "  [-0.02829522 -0.01896539 -0.03463118  0.03174325 -0.04326433\n",
            "    0.03636492  0.02978989  0.02980789]\n",
            "  [ 0.00102108  0.02451294 -0.01431308 -0.01147349 -0.00227207\n",
            "   -0.04245691 -0.03855885  0.03908935]\n",
            "  [-0.00132693  0.02607106 -0.04069187  0.036495    0.02241168\n",
            "    0.03207349  0.03350179  0.00860816]\n",
            "  [ 0.00304423  0.023376   -0.03204205 -0.02140065  0.02944313\n",
            "   -0.02695532 -0.04025048  0.04790166]\n",
            "  [-0.04797187 -0.01097815 -0.02290748 -0.03083466  0.01677877\n",
            "   -0.04720496 -0.03520847  0.04857943]]\n",
            "\n",
            " [[-0.02829522 -0.01896539 -0.03463118  0.03174325 -0.04326433\n",
            "    0.03636492  0.02978989  0.02980789]\n",
            "  [-0.02829522 -0.01896539 -0.03463118  0.03174325 -0.04326433\n",
            "    0.03636492  0.02978989  0.02980789]\n",
            "  [-0.02829522 -0.01896539 -0.03463118  0.03174325 -0.04326433\n",
            "    0.03636492  0.02978989  0.02980789]\n",
            "  [ 0.03990788  0.02629163 -0.03105402 -0.0455947   0.04357734\n",
            "   -0.04219673  0.00086937 -0.04613283]\n",
            "  [-0.03322679  0.02777505 -0.01962472 -0.01033736 -0.01609008\n",
            "    0.02302038  0.02685023  0.03484526]\n",
            "  [ 0.03056849 -0.03397589  0.00347044 -0.00163734  0.03171389\n",
            "   -0.01479285 -0.01623361 -0.00608246]\n",
            "  [ 0.04459398  0.04131759 -0.03056862 -0.02029986 -0.02159702\n",
            "   -0.02419344 -0.00336027  0.02926992]\n",
            "  [ 0.0395646  -0.04526277  0.04587105 -0.01063569  0.02965072\n",
            "   -0.03641396 -0.0455257  -0.02295636]]\n",
            "\n",
            " [[-0.02829522 -0.01896539 -0.03463118  0.03174325 -0.04326433\n",
            "    0.03636492  0.02978989  0.02980789]\n",
            "  [-0.02829522 -0.01896539 -0.03463118  0.03174325 -0.04326433\n",
            "    0.03636492  0.02978989  0.02980789]\n",
            "  [-0.02829522 -0.01896539 -0.03463118  0.03174325 -0.04326433\n",
            "    0.03636492  0.02978989  0.02980789]\n",
            "  [ 0.03990788  0.02629163 -0.03105402 -0.0455947   0.04357734\n",
            "   -0.04219673  0.00086937 -0.04613283]\n",
            "  [-0.03322679  0.02777505 -0.01962472 -0.01033736 -0.01609008\n",
            "    0.02302038  0.02685023  0.03484526]\n",
            "  [ 0.03056849 -0.03397589  0.00347044 -0.00163734  0.03171389\n",
            "   -0.01479285 -0.01623361 -0.00608246]\n",
            "  [ 0.04459398  0.04131759 -0.03056862 -0.02029986 -0.02159702\n",
            "   -0.02419344 -0.00336027  0.02926992]\n",
            "  [-0.00968349  0.02589286  0.03776577 -0.01612471 -0.03747361\n",
            "   -0.02983613  0.04697262  0.00561775]]\n",
            "\n",
            " [[-0.02829522 -0.01896539 -0.03463118  0.03174325 -0.04326433\n",
            "    0.03636492  0.02978989  0.02980789]\n",
            "  [-0.02829522 -0.01896539 -0.03463118  0.03174325 -0.04326433\n",
            "    0.03636492  0.02978989  0.02980789]\n",
            "  [-0.02829522 -0.01896539 -0.03463118  0.03174325 -0.04326433\n",
            "    0.03636492  0.02978989  0.02980789]\n",
            "  [ 0.02323044  0.03706635 -0.03783189 -0.02656555  0.03728423\n",
            "    0.02772566  0.00448793  0.01689372]\n",
            "  [ 0.00102108  0.02451294 -0.01431308 -0.01147349 -0.00227207\n",
            "   -0.04245691 -0.03855885  0.03908935]\n",
            "  [-0.02098955  0.02958182  0.000472    0.01616832 -0.02187209\n",
            "   -0.0142012  -0.04213319 -0.02051076]\n",
            "  [ 0.00304423  0.023376   -0.03204205 -0.02140065  0.02944313\n",
            "   -0.02695532 -0.04025048  0.04790166]\n",
            "  [-0.02702495  0.01397251  0.02282618 -0.04378889  0.01973048\n",
            "    0.00085832  0.01134826 -0.00949749]]\n",
            "\n",
            " [[-0.02829522 -0.01896539 -0.03463118  0.03174325 -0.04326433\n",
            "    0.03636492  0.02978989  0.02980789]\n",
            "  [-0.02829522 -0.01896539 -0.03463118  0.03174325 -0.04326433\n",
            "    0.03636492  0.02978989  0.02980789]\n",
            "  [-0.02829522 -0.01896539 -0.03463118  0.03174325 -0.04326433\n",
            "    0.03636492  0.02978989  0.02980789]\n",
            "  [-0.02829522 -0.01896539 -0.03463118  0.03174325 -0.04326433\n",
            "    0.03636492  0.02978989  0.02980789]\n",
            "  [ 0.04085666  0.03231046  0.01676064  0.04933474 -0.04030452\n",
            "    0.00087663 -0.02473878  0.03272425]\n",
            "  [ 0.00969784  0.00568033  0.01110307  0.02997151  0.03862507\n",
            "   -0.01227017  0.0135831  -0.03974397]\n",
            "  [-0.04026683 -0.02434645  0.04462166 -0.01612878  0.03381573\n",
            "    0.02813527  0.01010492  0.02387594]\n",
            "  [ 0.04459398  0.04131759 -0.03056862 -0.02029986 -0.02159702\n",
            "   -0.02419344 -0.00336027  0.02926992]]]\n"
          ]
        }
      ]
    },
    {
      "cell_type": "code",
      "source": [
        "embedded_docs.shape"
      ],
      "metadata": {
        "colab": {
          "base_uri": "https://localhost:8080/"
        },
        "id": "BXLsAb87c1Vd",
        "outputId": "0ae1b376-19ef-4bcc-93ec-b146ad15484e"
      },
      "execution_count": 91,
      "outputs": [
        {
          "output_type": "execute_result",
          "data": {
            "text/plain": [
              "(7, 10)"
            ]
          },
          "metadata": {},
          "execution_count": 91
        }
      ]
    },
    {
      "cell_type": "code",
      "source": [],
      "metadata": {
        "id": "OpsQf34OfmIt"
      },
      "execution_count": null,
      "outputs": []
    }
  ]
}